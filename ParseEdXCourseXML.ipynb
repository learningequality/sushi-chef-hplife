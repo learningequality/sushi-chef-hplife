{
 "cells": [
  {
   "cell_type": "code",
   "execution_count": 1,
   "metadata": {},
   "outputs": [],
   "source": [
    "import json\n",
    "import os\n",
    "\n",
    "from bs4 import BeautifulSoup\n",
    "from bs4.element import NavigableString\n",
    "\n",
    "\n",
    "\n",
    "basedir = 'chefdata/Sample2/Success_Mindset_English'\n",
    "\n",
    "coursedir = os.path.join(basedir, 'course')"
   ]
  },
  {
   "cell_type": "code",
   "execution_count": 2,
   "metadata": {},
   "outputs": [],
   "source": [
    "def parse_xml_file(coursedir, kind, name, ext='xml'):\n",
    "    \"\"\"\n",
    "    Parse the XML file at {coursedir}/{kind}/{name}.{ext}\n",
    "    and return the json tree representation.\n",
    "    References are not resolved --- see `parse_xml_file_refusive` for that.\n",
    "    \"\"\"\n",
    "\n",
    "    # Build path to XML file\n",
    "    path = coursedir\n",
    "    if kind:\n",
    "        path = os.path.join(path, kind)\n",
    "    path = os.path.join(path, name + '.' + ext)\n",
    "    if not os.path.exists(path):\n",
    "        raise ValueError('XML file not found: ' + path)\n",
    "    \n",
    "    # Load XML\n",
    "    xml = open(path, 'r')\n",
    "    doc = BeautifulSoup(xml, \"xml\")\n",
    "    doc_children = list(doc.children)\n",
    "    assert len(doc_children) == 1, 'Found more than one root element!'\n",
    "    doc_root = doc_children[0]\n",
    "    # print(doc)\n",
    "    \n",
    "    # JSON data object\n",
    "    data = {\n",
    "        'kind': doc_root.name,\n",
    "        'children': [],\n",
    "    }\n",
    "    data.update(doc_root.attrs)\n",
    "    \n",
    "    # Add children as unresoled references\n",
    "    for child in doc_root.children:\n",
    "        if type(child) == NavigableString:\n",
    "            continue\n",
    "        assert len(child.attrs) == 1, 'Assumption failed: encountered more than one attr'\n",
    "        kind = child.name\n",
    "        child_ref = {\n",
    "            'kind': kind,\n",
    "        }\n",
    "        if kind == 'wiki':\n",
    "            child_ref['slug'] = child.attrs['slug']\n",
    "        elif kind == 'html':\n",
    "            child_ref['url_name'] = child.attrs['url_name']\n",
    "            child_ref['ext'] = 'html'\n",
    "        else:\n",
    "            child_ref['url_name'] = child.attrs['url_name']\n",
    "        data['children'].append(child_ref)\n",
    "\n",
    "    return data"
   ]
  },
  {
   "cell_type": "code",
   "execution_count": null,
   "metadata": {},
   "outputs": [],
   "source": []
  },
  {
   "cell_type": "code",
   "execution_count": null,
   "metadata": {},
   "outputs": [],
   "source": []
  },
  {
   "cell_type": "code",
   "execution_count": 3,
   "metadata": {},
   "outputs": [
    {
     "data": {
      "text/plain": [
       "{'kind': 'course',\n",
       " 'children': [],\n",
       " 'url_name': 'course',\n",
       " 'org': 'hp-life-e-learning',\n",
       " 'course': '6638hpl-en30'}"
      ]
     },
     "execution_count": 3,
     "metadata": {},
     "output_type": "execute_result"
    }
   ],
   "source": [
    "data = parse_xml_file(coursedir, '', 'course')\n",
    "data"
   ]
  },
  {
   "cell_type": "code",
   "execution_count": 4,
   "metadata": {},
   "outputs": [
    {
     "data": {
      "text/plain": [
       "{'kind': 'course',\n",
       " 'children': [{'kind': 'chapter',\n",
       "   'url_name': '23c14c940ed44b7ab9a5c682d443aec7'},\n",
       "  {'kind': 'chapter', 'url_name': '535f768b2de84b6b9bdf92a8bfbc9f29'},\n",
       "  {'kind': 'chapter', 'url_name': '4ae59da79d394d6cafa136077809b5bf'},\n",
       "  {'kind': 'chapter', 'url_name': '6285d0bd66cd4433b039828fa21b6f49'},\n",
       "  {'kind': 'chapter', 'url_name': '64d3a001ad73451e87c9ca6e1956578e'},\n",
       "  {'kind': 'chapter', 'url_name': 'fe2f4e5367dc4531bf0d78f886acdac2'},\n",
       "  {'kind': 'wiki', 'slug': 'hp-life.2266hp-102.fall-2015'}],\n",
       " 'display_name': 'Success mindset',\n",
       " 'enrollment_start': '\"2018-10-11T00:00:00+00:00\"',\n",
       " 'graceperiod': '',\n",
       " 'language': 'en',\n",
       " 'minimum_grade_credit': '0.8',\n",
       " 'start': '\"2018-10-11T00:00:00+00:00\"'}"
      ]
     },
     "execution_count": 4,
     "metadata": {},
     "output_type": "execute_result"
    }
   ],
   "source": [
    "data = parse_xml_file(coursedir, 'course', 'course')\n",
    "data"
   ]
  },
  {
   "cell_type": "code",
   "execution_count": null,
   "metadata": {},
   "outputs": [],
   "source": []
  },
  {
   "cell_type": "code",
   "execution_count": null,
   "metadata": {},
   "outputs": [],
   "source": []
  },
  {
   "cell_type": "code",
   "execution_count": null,
   "metadata": {},
   "outputs": [],
   "source": []
  },
  {
   "cell_type": "code",
   "execution_count": null,
   "metadata": {},
   "outputs": [],
   "source": []
  },
  {
   "cell_type": "code",
   "execution_count": null,
   "metadata": {},
   "outputs": [],
   "source": []
  },
  {
   "cell_type": "code",
   "execution_count": 5,
   "metadata": {},
   "outputs": [],
   "source": [
    "def parse_xml_file_refusive(coursedir, kind, name, ext='xml'):\n",
    "    \"\"\"\n",
    "    Parse the XML file at {coursedir}/{kind}/{name}.{ext} recusively\n",
    "    using the base XML-to-JSON basic parsing function `parse_xml_file`.\n",
    "    Recusrively resolves all references of the form {kind: AAA, url_name: BBB}\n",
    "    bu loading the XML data from the file at {coursedir}/AAA/BBB.xml\n",
    "    Returns a json tree representation.\n",
    "    \"\"\"\n",
    "    root = parse_xml_file(coursedir, kind, name, ext=ext)\n",
    "    new_children = []\n",
    "    for child in root['children']:\n",
    "        child_kind = child['kind']\n",
    "        if child_kind in ['wiki', 'html']:\n",
    "            new_children.append(child)\n",
    "        elif child_kind in ['problem']:\n",
    "            new_children.append(child)\n",
    "        else:\n",
    "            child_name = child['url_name']\n",
    "            resolved_child = parse_xml_file_refusive(coursedir, child_kind, child_name, ext='xml')\n",
    "            new_children.append(resolved_child)\n",
    "    root['children'] = new_children\n",
    "    return root\n"
   ]
  },
  {
   "cell_type": "code",
   "execution_count": 6,
   "metadata": {},
   "outputs": [],
   "source": [
    "data = parse_xml_file_refusive(coursedir, 'course', 'course')\n",
    "# data"
   ]
  },
  {
   "cell_type": "code",
   "execution_count": null,
   "metadata": {},
   "outputs": [],
   "source": []
  },
  {
   "cell_type": "code",
   "execution_count": 7,
   "metadata": {},
   "outputs": [],
   "source": [
    "from libedx import print_course\n"
   ]
  },
  {
   "cell_type": "code",
   "execution_count": 8,
   "metadata": {},
   "outputs": [
    {
     "name": "stdout",
     "output_type": "stream",
     "text": [
      " - Success mindset kind= course \t \n",
      "    - Start Course kind= chapter \t \n",
      "       - Success mindset kind= sequential \t \n",
      "          - Unit kind= vertical \t \n",
      "             -  kind= html \t  url_name=5e7e7ad5290f46cbbba0642d913f13c9\n",
      "    - Story kind= chapter \t \n",
      "       - Story Slides kind= sequential \t \n",
      "          - Unit kind= vertical \t \n",
      "             -  kind= problem \t  url_name=a7677ba614c6480c8dd357f4a793480a\n",
      "    - Business Concept kind= chapter \t \n",
      "       - Activity kind= sequential \t \n",
      "          - Unit kind= vertical \t \n",
      "             -  kind= problem \t  url_name=22a03eac7559497f8a00507d80f19331\n",
      "    - Technology Skill kind= chapter \t \n",
      "       - Activity kind= sequential \t \n",
      "          - Unit kind= vertical \t \n",
      "             -  kind= problem \t  url_name=96ef66f259e648f6a57032a25b49e5e3\n",
      "       - Downloadable Resources kind= sequential \t \n",
      "          - Unit kind= vertical \t \n",
      "             -  kind= html \t  url_name=d51950e67be341ae98838f0d2ef9e867\n",
      "    - Course Feedback kind= chapter \t \n",
      "       - Survey kind= sequential \t \n",
      "          - Unit kind= vertical \t \n",
      "             -  kind= html \t  url_name=5f22d6fba0c34e1a9fb39516aa11c236\n",
      "             -  kind= problem \t  url_name=f5fed29d1b0b4a2c96eb7cc66484e088\n",
      "             -  kind= html \t  url_name=bcd8654bff9f4a95b495fe423f1f4ffa\n",
      "    - Next Steps kind= chapter \t \n",
      "       - Next Steps kind= sequential \t \n",
      "          - Unit kind= vertical \t \n",
      "             -  kind= html \t  url_name=54bb0f81ef2e49edb274afa25ec72943\n",
      "    -  kind= wiki \t  slug=hp-life.2266hp-102.fall-2015\n"
     ]
    }
   ],
   "source": [
    "print_course(data)"
   ]
  },
  {
   "cell_type": "code",
   "execution_count": null,
   "metadata": {},
   "outputs": [],
   "source": []
  }
 ],
 "metadata": {
  "kernelspec": {
   "display_name": "Python 3",
   "language": "python",
   "name": "python3"
  },
  "language_info": {
   "codemirror_mode": {
    "name": "ipython",
    "version": 3
   },
   "file_extension": ".py",
   "mimetype": "text/x-python",
   "name": "python",
   "nbconvert_exporter": "python",
   "pygments_lexer": "ipython3",
   "version": "3.7.2"
  }
 },
 "nbformat": 4,
 "nbformat_minor": 2
}
